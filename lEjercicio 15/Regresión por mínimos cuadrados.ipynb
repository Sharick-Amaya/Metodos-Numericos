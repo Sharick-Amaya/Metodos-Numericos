{
 "cells": [
  {
   "cell_type": "code",
   "execution_count": 1,
   "metadata": {
    "collapsed": true
   },
   "outputs": [],
   "source": [
    "import matplotlib.pyplot as plt\n",
    "n,y,t,sumax,sumay,mult,sumCuadrado=7,[],[],0.0,0.0,0.0,0.0\n",
    "xi=[1,2,3,4,5,6,7]\n",
    "yi=[0.5,2.5,2.0,4.0,3.5,6.0,5.5]\n",
    "\n",
    "for i in range (n):\n",
    "    sumax += xi[i]\n",
    "    sumay += yi[i]\n",
    "    mult += xi[i]*yi[i]\n",
    "    sumCuadrado += xi[i]**2\n",
    "a1 = (n*mult-(sumax*sumay))/(n*sumCuadrado-sumax**2)\n",
    "xmedia = sumax/n\n",
    "ymedia = sumay/n\n",
    "a0 = ymedia-a1*xmedia\n",
    "for j in range(n+1):\n",
    "    y.append(a0+a1*j)\n",
    "    t.append(j)\n",
    "    \n",
    "plt.plot(t,y)\n",
    "plt.plot(xi,yi, 'o')\n",
    "plt.xlabel('Xi')\n",
    "plt.ylabel('Yi')\n",
    "plt.axis([0,8,0,7])\n",
    "plt.grid()\n",
    "plt.show()"
   ]
  },
  {
   "cell_type": "code",
   "execution_count": null,
   "metadata": {
    "collapsed": true
   },
   "outputs": [],
   "source": []
  }
 ],
 "metadata": {
  "kernelspec": {
   "display_name": "Python 3",
   "language": "python",
   "name": "python3"
  },
  "language_info": {
   "codemirror_mode": {
    "name": "ipython",
    "version": 3
   },
   "file_extension": ".py",
   "mimetype": "text/x-python",
   "name": "python",
   "nbconvert_exporter": "python",
   "pygments_lexer": "ipython3",
   "version": "3.5.1"
  }
 },
 "nbformat": 4,
 "nbformat_minor": 0
}
