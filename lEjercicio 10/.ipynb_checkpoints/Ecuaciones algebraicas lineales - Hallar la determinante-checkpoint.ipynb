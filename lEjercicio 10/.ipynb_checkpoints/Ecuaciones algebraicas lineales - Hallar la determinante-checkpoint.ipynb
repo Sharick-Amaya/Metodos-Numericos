{
 "cells": [
  {
   "cell_type": "code",
   "execution_count": 9,
   "metadata": {
    "collapsed": false
   },
   "outputs": [
    {
     "name": "stdout",
     "output_type": "stream",
     "text": [
      "Ingrese el valor de A00: 9\n",
      "Ingrese el valor de A01: 8\n",
      "Ingrese el valor de A02: 7\n",
      "Ingrese el valor de B00: 6\n",
      "Ingrese el valor de A10: 5\n",
      "Ingrese el valor de A11: 4\n",
      "Ingrese el valor de A12: 3\n",
      "Ingrese el valor de B10: 2\n",
      "Ingrese el valor de A20: 1\n",
      "Ingrese el valor de A21: 9\n",
      "Ingrese el valor de A22: 8\n",
      "Ingrese el valor de B20: 7\n",
      "\n",
      "El determinante es: 36.0\n",
      "\n",
      "x1: 0.0\n",
      "x2: -1.0\n",
      "x3: 2.0\n"
     ]
    }
   ],
   "source": [
    "a,b = [],[]\n",
    "\n",
    "def ingreso() :\n",
    "    fila=[]\n",
    "    i,j=0,0\n",
    "    while(i<3):\n",
    "        while(j<3):\n",
    "            num=float(input(\"Ingrese el valor de A%d%d: \" %(i,j)))\n",
    "            fila.append(num)\n",
    "            j+=1\n",
    "        j=0\n",
    "        a.append(fila)\n",
    "        fila = []\n",
    "        rep=float(input(\"Ingrese el valor de B%d%d: \" %(i,j)))\n",
    "        b.append(rep)\n",
    "        i+=1\n",
    "\n",
    "ingreso()\n",
    "det=(((a[0][0])*((a[1][1])*(a[2][2])-(a[1][2])*(a[2][1])))-((a[0][1])*((a[1][0])*(a[2][2])-(a[1][2])*(a[2][0])))+\n",
    "       ((a[0][2])*((a[1][0])*(a[2][1])-(a[1][1])*(a[2][0]))))\n",
    "print ()\n",
    "print (\"El determinante es: \"+str(det))\n",
    "det1=(((b[0])*((a[1][1])*(a[2][2])-(a[1][2])*(a[2][1])))-((a[0][1])*((b[1])*(a[2][2])-(a[1][2])*(b[2])))+((a[0][2])*\n",
    "        ((b[1])*(a[2][1])-(a[1][1])*(b[2]))))\n",
    "print ()\n",
    "x1=(det1/det)\n",
    "print (\"x1: \"+str(x1))\n",
    "det2=(((a[0][0])*((b[1])*(a[2][2])-(a[1][2])*(b[2])))-((b[0])*((a[1][0])*(a[2][2])-(a[1][2])*(a[2][0])))+((a[0][2])*\n",
    "        ((a[1][0])*(b[2])-(b[1])*(a[2][0]))))\n",
    "x2=(det2/det)\n",
    "print (\"x2: \"+str(x2))\n",
    "det3=(((a[0][0])*((a[1][1])*(b[2])-(b[1])*(a[2][1])))-((a[0][1])*((a[1][0])*(b[2])-(b[1])*(a[2][0])))+((b[0])*\n",
    "        ((a[1][0])*(a[2][1])-(a[1][1])*(a[2][0]))))\n",
    "x3=(det3/det)\n",
    "print (\"x3: \"+str(x3))"
   ]
  }
 ],
 "metadata": {
  "kernelspec": {
   "display_name": "Python 3",
   "language": "python",
   "name": "python3"
  },
  "language_info": {
   "codemirror_mode": {
    "name": "ipython",
    "version": 3
   },
   "file_extension": ".py",
   "mimetype": "text/x-python",
   "name": "python",
   "nbconvert_exporter": "python",
   "pygments_lexer": "ipython3",
   "version": "3.5.1"
  }
 },
 "nbformat": 4,
 "nbformat_minor": 0
}
