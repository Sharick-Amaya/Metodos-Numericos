{
 "cells": [
  {
   "cell_type": "code",
   "execution_count": null,
   "metadata": {
    "collapsed": false
   },
   "outputs": [],
   "source": [
    "import matplotlib.pyplot as plt \n",
    "g=9.8 \n",
    "m=68.1 \n",
    "c=12.5 \n",
    "e=2.71 \n",
    "\n",
    "t1= 0 \n",
    "v1= 0.0 \n",
    "t2= 2 \n",
    "v2= 0.0 \n",
    "\n",
    "vel1= [] \n",
    "tie1= [] \n",
    "vel2= [] \n",
    "tie2= [] \n",
    "\n",
    "Ev= 0.0   #Error verdadero \n",
    "Erpv= 0.0 #Error relativo porcentual verdadero \n",
    "Erpa= 0.0 #Error relativo porcentual apróximado \n",
    "Es= 0.0   #Error tolerado\n",
    "\n",
    "print \"|%-4s|%-14s|%-14s |%-18s |%-19s|%-15s|%-15s|\"%('t','V(t)A','V(t)M.N','Et','εt','εa','εs') \n",
    "print (\"----------------------------------------------------------------------------------------------------------\") \n",
    "while t1<=130: \n",
    "    v1=(g*m/c)*(1-e**(-(c/m)*t1)) \n",
    "    if t1%2==0: \n",
    "        vel1.append(v1) \n",
    "        vel2.append(v2) \n",
    "        print \"|%-4s|%-14s|%-14s |%-18s |%-18s|%-14s|%-14s|\"%(t1,v1,v2,Ev,Erpv,Erpa,Es)\n",
    "        v2=v2+(g-(c/m*v2))*(t2-t1)         \n",
    "        tie1.append(t1)\n",
    "        tie2.append(t1) \n",
    "        t1+=2       \n",
    "        t2+=2 \n",
    "        Ev=v1-v2 \n",
    "        Erpv=(Ev/v2)*100\n",
    "        Erpa= ((v2-(v2-1)/v2)*100 \n",
    "            \n",
    "plt.plot(tie2, vel2, 'r.', label='Velocidad Metodos Numericos')\n",
    "plt.plot(tie1, vel1, 'k-', label='Velocidad Analitica') \n",
    "plt.title(\"VELOCIDAD DEL PARACAIDISTA\") \n",
    "plt.legend(loc=2) \n",
    "plt.xlabel(\"Tiempo (s)\") \n",
    "plt.xlim(0, 110) \n",
    "plt.ylabel(\"Velocidad (m)\") \n",
    "plt.ylim(0, 70) \n",
    "plt.show()"
   ]
  },
  {
   "cell_type": "code",
   "execution_count": null,
   "metadata": {
    "collapsed": true
   },
   "outputs": [],
   "source": []
  },
  {
   "cell_type": "code",
   "execution_count": null,
   "metadata": {
    "collapsed": true
   },
   "outputs": [],
   "source": []
  }
 ],
 "metadata": {
  "kernelspec": {
   "display_name": "Python 2",
   "language": "python",
   "name": "python2"
  },
  "language_info": {
   "codemirror_mode": {
    "name": "ipython",
    "version": 2
   },
   "file_extension": ".py",
   "mimetype": "text/x-python",
   "name": "python",
   "nbconvert_exporter": "python",
   "pygments_lexer": "ipython2",
   "version": "2.7.10"
  }
 },
 "nbformat": 4,
 "nbformat_minor": 0
}
