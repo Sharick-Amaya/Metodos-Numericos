{
 "cells": [
  {
   "cell_type": "code",
   "execution_count": 42,
   "metadata": {
    "collapsed": false
   },
   "outputs": [
    {
     "name": "stdout",
     "output_type": "stream",
     "text": [
      "F1(2): 0.46209799999999995\n",
      "F2(2): 0.5658439999999999\n"
     ]
    }
   ],
   "source": [
    "xi, fxi = [1.0,4.0,6.0], [0.0,1.386294,1.791760]\n",
    "\n",
    "x, fx = 2, []\n",
    "orden = 2\n",
    "\n",
    "def funcion(n):\n",
    "    suma = 0.0\n",
    "    for i in range(n+1):\n",
    "        suma += lg(i, n)*fxi[i]\n",
    "    return suma\n",
    "\n",
    "def lg(i , n):\n",
    "    produc = 1.0\n",
    "    for j in range(n+1):\n",
    "        if (j!=i):\n",
    "            produc *=  (x-xi[j])/(xi[i]-xi[j])\n",
    "    return produc\n",
    "\n",
    "for n in range(1,orden+1):\n",
    "    fx.append(funcion(n))\n",
    "    print (\"F\"+str(n)+\"(\"+str(x)+\"): \"+str(fx[n-1]))"
   ]
  },
  {
   "cell_type": "code",
   "execution_count": null,
   "metadata": {
    "collapsed": true
   },
   "outputs": [],
   "source": []
  }
 ],
 "metadata": {
  "kernelspec": {
   "display_name": "Python 3",
   "language": "python",
   "name": "python3"
  },
  "language_info": {
   "codemirror_mode": {
    "name": "ipython",
    "version": 3
   },
   "file_extension": ".py",
   "mimetype": "text/x-python",
   "name": "python",
   "nbconvert_exporter": "python",
   "pygments_lexer": "ipython3",
   "version": "3.5.1"
  }
 },
 "nbformat": 4,
 "nbformat_minor": 0
}
