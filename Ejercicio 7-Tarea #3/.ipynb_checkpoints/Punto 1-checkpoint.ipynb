{
 "cells": [
  {
   "cell_type": "markdown",
   "metadata": {},
   "source": [
    "## 1. Implementar el metodo de la falsa posicion."
   ]
  },
  {
   "cell_type": "code",
   "execution_count": null,
   "metadata": {
    "collapsed": false
   },
   "outputs": [],
   "source": [
    "def funcion(c):\n",
    "    g = 9.8\n",
    "    m = 68.1\n",
    "    e = 2.71\n",
    "    v = 40\n",
    "    t = 10\n",
    "    \n",
    "    return ((g*m/c)*(1-e**(-(c/m)*t))-v)\n",
    "\n",
    "xl = 12\n",
    "xu = 20\n",
    "xr = 0\n",
    "ter = 0\n",
    "\n",
    "print (\"---------------------------------------------------------------------------------\")\n",
    "print (\"|Término|       Xu       |       Xl       |       Xr       |        F(xr)       |\")\n",
    "print (\"---------------------------------------------------------------------------------\")\n",
    "while True:\n",
    "    ter += 1\n",
    "    if (xr!=0):\n",
    "        print (\"|   %d\\t|   %f    |   %f    |   %f    |     %f\\t|\" %(ter, xu, xl, xr, funcion(xr)))\n",
    "        print (\"---------------------------------------------------------------------------------\")        \n",
    "    else :\n",
    "        print (\"|   %d\\t|   %f    |   %f    |   %f     |       -----        |\" %(ter, xu, xl, xr))\n",
    "        print (\"---------------------------------------------------------------------------------\")       \n",
    "    if (funcion(xl)*funcion(xu)<0):\n",
    "        xr = xu-((funcion(xu)*(xl-xu))/(funcion(xl)-funcion(xu)))\n",
    "        if (funcion(xl)*funcion(xr)<0):\n",
    "            xu = xr\n",
    "            continue\n",
    "        if (funcion(xl)*funcion(xr)>0):\n",
    "            xl = xr\n",
    "            continue\n",
    "        if (funcion(xl)*funcion(xr)==0):\n",
    "            print(\"\")\n",
    "            print (\"LA RAIZ ESTA EN  t = %f\" %(xr))\n",
    "            break\n",
    "    else:\n",
    "        break"
   ]
  },
  {
   "cell_type": "code",
   "execution_count": null,
   "metadata": {
    "collapsed": true
   },
   "outputs": [],
   "source": []
  }
 ],
 "metadata": {
  "kernelspec": {
   "display_name": "Python 3",
   "language": "python",
   "name": "python3"
  },
  "language_info": {
   "codemirror_mode": {
    "name": "ipython",
    "version": 3
   },
   "file_extension": ".py",
   "mimetype": "text/x-python",
   "name": "python",
   "nbconvert_exporter": "python",
   "pygments_lexer": "ipython3",
   "version": "3.5.1"
  }
 },
 "nbformat": 4,
 "nbformat_minor": 0
}
