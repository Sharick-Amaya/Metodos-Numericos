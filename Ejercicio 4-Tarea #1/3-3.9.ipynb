{
 "cells": [
  {
   "cell_type": "markdown",
   "metadata": {},
   "source": [
    "## Determine el número de términos necesarios para aproximar cos (x) a 8 cifras significativas con el uso de la serie de McLaurin."
   ]
  },
  {
   "cell_type": "code",
   "execution_count": 6,
   "metadata": {
    "collapsed": false
   },
   "outputs": [
    {
     "name": "stdout",
     "output_type": "stream",
     "text": [
      "-------------------------------------------------------------------------------------------------\n",
      "|Terminos| Cos(x) aprox. |      Et      |    εa total    |      εa aprox.       |       εs      |\n",
      "-------------------------------------------------------------------------------------------------\n",
      "|   1    |   1.0000000   |  0.4122147   |    41.2214700\t |     100.0000000 \t|   0.0000005   |\n",
      "-------------------------------------------------------------------------------------------------\n",
      "|   2    |   0.5558679   |  0.0319174   |    5.7419038\t |     -79.8988573 \t|   0.0000005   |\n",
      "-------------------------------------------------------------------------------------------------\n",
      "|   3    |   0.5887434   |  0.0009581   |    0.1627364\t |     5.5840116 \t|   0.0000005   |\n",
      "-------------------------------------------------------------------------------------------------\n",
      "|   4    |   0.5877700   |  0.0000153   |    0.0026031\t |     -0.1656090 \t|   0.0000005   |\n",
      "-------------------------------------------------------------------------------------------------\n",
      "|   5    |   0.5877854   |  0.0000001   |    0.0000170\t |     0.0026200 \t|   0.0000005   |\n",
      "-------------------------------------------------------------------------------------------------\n",
      "|   6    |   0.5877853   |  0.0000000   |    0.0000000\t |     -0.0000170 \t|   0.0000005   |\n",
      "-------------------------------------------------------------------------------------------------\n"
     ]
    }
   ],
   "source": [
    "def factorial(x):\n",
    "    cont, res = 1 , 1\n",
    "    while cont<=x:\n",
    "        res*=cont\n",
    "        cont+=1\n",
    "    return res\n",
    "\n",
    "def cifras(x):\n",
    "    x *= 10000000\n",
    "    x = int(x)\n",
    "    x /= 10000000\n",
    "    return x\n",
    "\n",
    "x = 0.3*3.1415926\n",
    "cos = 0.5877853  # resultado de cos(0.3*pi)\n",
    "ter, expo, cosa, ante, ea = 0, 0, 0, 0, 0\n",
    "es = (0.5*10**(2-8))\n",
    "print (\"-------------------------------------------------------------------------------------------------\")\n",
    "print (\"|Terminos| Cos(x) aprox. |      Et      |    εa total    |      εa aprox.       |       εs      |\")\n",
    "print (\"-------------------------------------------------------------------------------------------------\")\n",
    "while (cifras(cosa)!=cifras(cos)) :\n",
    "    ter +=1\n",
    "    cosa += cifras(((-1)**(ter+1))*((x**(expo))/factorial(expo)))\n",
    "    expo +=2\n",
    "    et = cos-cosa\n",
    "    if (et<0) :\n",
    "        et*=-1\n",
    "    eat = et/cosa*100\n",
    "    eaa = (cosa-ante)/cosa*100\n",
    "    if (ea<0) :\n",
    "        ea*=-1\n",
    "    ante = cosa\n",
    "    print (\"|   %d    |   %.7f   |  %.7f   |    %.7f\\t |     %.7f \\t|   %.7f   |\" %(ter, cosa, et, eat, eaa, es))\n",
    "    print (\"-------------------------------------------------------------------------------------------------\")\n"
   ]
  },
  {
   "cell_type": "code",
   "execution_count": null,
   "metadata": {
    "collapsed": true
   },
   "outputs": [],
   "source": []
  }
 ],
 "metadata": {
  "kernelspec": {
   "display_name": "Python 3",
   "language": "python",
   "name": "python3"
  },
  "language_info": {
   "codemirror_mode": {
    "name": "ipython",
    "version": 3
   },
   "file_extension": ".py",
   "mimetype": "text/x-python",
   "name": "python",
   "nbconvert_exporter": "python",
   "pygments_lexer": "ipython3",
   "version": "3.5.1"
  }
 },
 "nbformat": 4,
 "nbformat_minor": 0
}
