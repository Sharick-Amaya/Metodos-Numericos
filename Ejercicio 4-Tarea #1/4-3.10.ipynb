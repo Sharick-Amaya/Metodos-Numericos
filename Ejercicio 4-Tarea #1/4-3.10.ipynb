{
 "cells": [
  {
   "cell_type": "markdown",
   "metadata": {},
   "source": [
    "## Utilice aritmética de 5 dígitos con corte para determinar las raíces de la ecuación siguiente, por medio de las ecuaciones  (3.12) y (3.13). x^2-5000.002x+10. "
   ]
  },
  {
   "cell_type": "code",
   "execution_count": 6,
   "metadata": {
    "collapsed": false
   },
   "outputs": [
    {
     "name": "stdout",
     "output_type": "stream",
     "text": [
      "---------------------------\n",
      "-ECUACIÓN 3.12:\n",
      "X1: -0.0019999999999527063\n",
      "X2: -5000.0\n",
      "---------------------------\n",
      "-ECUACIÓN 3.13:\n",
      "X1: -0.002\n",
      "X2: -5000.000000118234\n",
      "---------------------------\n"
     ]
    }
   ],
   "source": [
    "import math\n",
    "\n",
    "def cifras(x):\n",
    "    x *= 1000\n",
    "    x = int(x)\n",
    "    x /= 1000\n",
    "    return x\n",
    "\n",
    "a=1\n",
    "b=5000.002\n",
    "c=10\n",
    "print (\"---------------------------\")\n",
    "print (\"-ECUACIÓN 3.12:\")\n",
    "#print (\"\")\n",
    "p1=(b**2)-(4*(a)*(c))\n",
    "raiz= math.sqrt(p1)\n",
    "x1=((-b)+(raiz))/(2*a)\n",
    "x2=((-b)-(raiz))/(2*a)\n",
    "print (\"X1:\", x1)\n",
    "print (\"X2:\", x2)\n",
    "\n",
    "print (\"---------------------------\")\n",
    "\n",
    "print (\"-ECUACIÓN 3.13:\")\n",
    "#print (\"\")\n",
    "p2=(b**2)-(4*(a)*(c))\n",
    "raiz2= math.sqrt(p2)\n",
    "x11=(-2*c)/((b+(raiz)))\n",
    "x22=(-2*c)/((b-(raiz)))\n",
    "print (\"X1:\", x11)\n",
    "print (\"X2:\", x22)\n",
    "print (\"---------------------------\")"
   ]
  },
  {
   "cell_type": "code",
   "execution_count": null,
   "metadata": {
    "collapsed": true
   },
   "outputs": [],
   "source": []
  }
 ],
 "metadata": {
  "kernelspec": {
   "display_name": "Python 3",
   "language": "python",
   "name": "python3"
  },
  "language_info": {
   "codemirror_mode": {
    "name": "ipython",
    "version": 3
   },
   "file_extension": ".py",
   "mimetype": "text/x-python",
   "name": "python",
   "nbconvert_exporter": "python",
   "pygments_lexer": "ipython3",
   "version": "3.5.1"
  }
 },
 "nbformat": 4,
 "nbformat_minor": 0
}
