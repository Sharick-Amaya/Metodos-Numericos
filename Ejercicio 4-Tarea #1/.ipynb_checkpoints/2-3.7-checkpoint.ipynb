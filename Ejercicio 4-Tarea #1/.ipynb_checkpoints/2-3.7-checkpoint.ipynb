{
 "cells": [
  {
   "cell_type": "markdown",
   "metadata": {},
   "source": [
    "## a) Evaluar el polinomio y = x3 – 7x2 + 8x + 0.35 en x = 1.37. Utilice aritmética de 3 dígitos con corte. Evalúe el error relativo porcentual."
   ]
  },
  {
   "cell_type": "code",
   "execution_count": 4,
   "metadata": {
    "collapsed": false
   },
   "outputs": [
    {
     "name": "stdout",
     "output_type": "stream",
     "text": [
      "---------------------------------------------------------------------------------\n",
      "|      Y       |     Y aprox.    |      Et      |       εa       |      εs      |\n",
      "---------------------------------------------------------------------------------\n",
      "|   0.743053   |    0.750000     |   0.006947   |    0.926267    |   0.050000   |\n",
      "---------------------------------------------------------------------------------\n"
     ]
    }
   ],
   "source": [
    "def cifras(x):\n",
    "    x *= 100\n",
    "    x = int(x)\n",
    "    x /= 100\n",
    "    return x\n",
    "\n",
    "x = 1.37\n",
    "y = x**3-7*x**2+8*x+0.35\n",
    "yapr = cifras(x**3)-cifras(7*x**2)+cifras(8*x)+0.35\n",
    "et = (y-yapr)*(-1)\n",
    "er = et/yapr*100\n",
    "es = (0.5*10**(2-3))\n",
    "print (\"---------------------------------------------------------------------------------\")\n",
    "print (\"|      Y       |     Y aprox.    |      Et      |       εa       |      εs      |\")\n",
    "print (\"---------------------------------------------------------------------------------\")\n",
    "print (\"|   %f   |    %f     |   %f   |    %f    |   %f   |\" %(y, yapr, et, er, es))\n",
    "print (\"---------------------------------------------------------------------------------\")"
   ]
  },
  {
   "cell_type": "markdown",
   "metadata": {},
   "source": [
    "## b) Repita el inciso a) pero exprese a y como y = [(x – 7)x + 8]x + 0.35. Evalúe el error y compárelo con el inciso a)."
   ]
  },
  {
   "cell_type": "code",
   "execution_count": 5,
   "metadata": {
    "collapsed": false
   },
   "outputs": [
    {
     "name": "stdout",
     "output_type": "stream",
     "text": [
      "---------------------------------------------------------------------------------\n",
      "|      Y       |     Y aprox.    |      Et      |       εa       |      εs      |\n",
      "---------------------------------------------------------------------------------\n",
      "|   0.743053   |    0.740000     |   0.003053   |    0.412568    |   0.050000   |\n",
      "---------------------------------------------------------------------------------\n"
     ]
    }
   ],
   "source": [
    "def cifras(x):\n",
    "    x *= 100\n",
    "    x = int(x)\n",
    "    x /= 100\n",
    "    return x\n",
    "\n",
    "x = 1.37\n",
    "y = ((x-7)*x+8)*x+0.35\n",
    "yapr = cifras((cifras(cifras(x-7)*x)+8)*x)+0.35\n",
    "et = (y-yapr)\n",
    "er = et/yapr*100\n",
    "es = (0.5*10**(2-3))\n",
    "print (\"---------------------------------------------------------------------------------\")\n",
    "print (\"|      Y       |     Y aprox.    |      Et      |       εa       |      εs      |\")\n",
    "print (\"---------------------------------------------------------------------------------\")\n",
    "print (\"|   %f   |    %f     |   %f   |    %f    |   %f   |\" %(y, yapr, et, er, es))\n",
    "print (\"---------------------------------------------------------------------------------\")"
   ]
  },
  {
   "cell_type": "code",
   "execution_count": null,
   "metadata": {
    "collapsed": true
   },
   "outputs": [],
   "source": []
  }
 ],
 "metadata": {
  "kernelspec": {
   "display_name": "Python 3",
   "language": "python",
   "name": "python3"
  },
  "language_info": {
   "codemirror_mode": {
    "name": "ipython",
    "version": 3
   },
   "file_extension": ".py",
   "mimetype": "text/x-python",
   "name": "python",
   "nbconvert_exporter": "python",
   "pygments_lexer": "ipython3",
   "version": "3.5.1"
  }
 },
 "nbformat": 4,
 "nbformat_minor": 0
}
