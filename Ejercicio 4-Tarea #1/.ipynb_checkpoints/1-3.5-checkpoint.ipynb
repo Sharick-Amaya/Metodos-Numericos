{
 "cells": [
  {
   "cell_type": "markdown",
   "metadata": {},
   "source": [
    "## Evalúe e^5 con el uso de dos métodos, y compárelo con el valor verdadero de 6.737947 × 10–3. Utilice 20 términos para evaluar cada serie y calcule los errores relativos aproximado y verdadero como términos que se agregaran."
   ]
  },
  {
   "cell_type": "code",
   "execution_count": 4,
   "metadata": {
    "collapsed": false
   },
   "outputs": [
    {
     "name": "stdout",
     "output_type": "stream",
     "text": [
      "---------------------------------------------------------\n",
      "|Término |         e^-x         |          e^x          |\n",
      "---------------------------------------------------------\n",
      "|   1 \t |      1.000000 \t|      1.000000  \t|\n",
      "|   2 \t |      -4.000000 \t|      6.000000  \t|\n",
      "|   3 \t |      8.500000 \t|      18.500000  \t|\n",
      "|   4 \t |      -12.333333 \t|      39.333333  \t|\n",
      "|   5 \t |      13.708333 \t|      65.375000  \t|\n",
      "|   6 \t |      -12.333333 \t|      91.416667  \t|\n",
      "|   7 \t |      9.368056 \t|      113.118056  \t|\n",
      "|   8 \t |      -6.132937 \t|      128.619048  \t|\n",
      "|   9 \t |      3.555184 \t|      138.307168  \t|\n",
      "|   10 \t |      -1.827105 \t|      143.689457  \t|\n",
      "|   11 \t |      0.864039 \t|      146.380601  \t|\n",
      "|   12 \t |      -0.359208 \t|      147.603849  \t|\n",
      "|   13 \t |      0.150478 \t|      148.113535  \t|\n",
      "|   14 \t |      -0.045555 \t|      148.309568  \t|\n",
      "|   15 \t |      0.024457 \t|      148.379580  \t|\n",
      "|   16 \t |      0.001119 \t|      148.402917  \t|\n",
      "|   17 \t |      0.008412 \t|      148.410210  \t|\n",
      "|   18 \t |      0.006267 \t|      148.412355  \t|\n",
      "|   19 \t |      0.006863 \t|      148.412951  \t|\n",
      "|   20 \t |      0.006706 \t|      148.413108  \t|\n",
      "|   21 \t |      0.006746 \t|      148.413147  \t|\n",
      "|   22 \t |      0.006736 \t|      148.413156  \t|\n",
      "|   23 \t |      0.006738 \t|      148.413159  \t|\n",
      "---------------------------------------------------------\n",
      "\n",
      "COMPARACIÓN CON EL VALOR VERDADERO:\n",
      "----------------------------------------------------------------------------\n",
      "|Término |   e^-5(Ver)    |   e^-5(Aprox)   |   1/e^5(Ver)  | 1/e^5(Aprox) |\n",
      "----------------------------------------------------------------------------\n",
      "|   23 \t |    0.006741\t  |    0.006738\t    |    0.006741   |   0.006738   |\n",
      "----------------------------------------------------------------------------\n"
     ]
    }
   ],
   "source": [
    "def factorial(x):\n",
    "    cont, res = 1 , 1\n",
    "    while cont<=x:\n",
    "        res*=cont\n",
    "        cont+=1\n",
    "    return res\n",
    "\n",
    "e = 2.718\n",
    "x = 5\n",
    "term, ex1, ex2 = 0, 0, 0\n",
    "exn = e**(-x)\n",
    "exp = e**x\n",
    "print (\"---------------------------------------------------------\")\n",
    "print (\"|Término |         e^-x         |          e^x          |\")\n",
    "print (\"---------------------------------------------------------\")\n",
    "while (term<23):\n",
    "    term+=1\n",
    "    ex1 += ((-1)**(term+1))*(x**(term-1)) / factorial(term-1)  \n",
    "    ex2 += ((x**(term-1)) / factorial(term-1))\n",
    "    print (\"|   %d \\t |      %f \\t|      %f  \\t|\" %(term, ex1, ex2))\n",
    "print (\"---------------------------------------------------------\")\n",
    "print (\"\")\n",
    "print (\"COMPARACIÓN CON EL VALOR VERDADERO:\")\n",
    "print (\"----------------------------------------------------------------------------\")\n",
    "print (\"|Término |   e^-5(Ver)    |   e^-5(Aprox)   |   1/e^5(Ver)  | 1/e^5(Aprox) |\")\n",
    "print (\"----------------------------------------------------------------------------\")\n",
    "ex2 = 1/ex2\n",
    "print (\"|   %d \\t |    %f\\t  |    %f\\t    |    %f   |   %f   |\" %(term, exn, ex1, exn, ex2))\n",
    "print (\"----------------------------------------------------------------------------\")"
   ]
  },
  {
   "cell_type": "code",
   "execution_count": null,
   "metadata": {
    "collapsed": true
   },
   "outputs": [],
   "source": []
  }
 ],
 "metadata": {
  "kernelspec": {
   "display_name": "Python 3",
   "language": "python",
   "name": "python3"
  },
  "language_info": {
   "codemirror_mode": {
    "name": "ipython",
    "version": 3
   },
   "file_extension": ".py",
   "mimetype": "text/x-python",
   "name": "python",
   "nbconvert_exporter": "python",
   "pygments_lexer": "ipython3",
   "version": "3.5.1"
  }
 },
 "nbformat": 4,
 "nbformat_minor": 0
}
