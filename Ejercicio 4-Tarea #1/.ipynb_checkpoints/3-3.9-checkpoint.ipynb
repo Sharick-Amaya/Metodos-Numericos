{
 "cells": [
  {
   "cell_type": "markdown",
   "metadata": {},
   "source": [
    "## Determine el número de términos necesarios para aproximar cos x a 8 cifras significativas con el uso de la serie de McLaurin."
   ]
  },
  {
   "cell_type": "code",
   "execution_count": 1,
   "metadata": {
    "collapsed": false
   },
   "outputs": [
    {
     "name": "stdout",
     "output_type": "stream",
     "text": [
      "Terminos|\tCos(x) aprox.\t|\tEt\t\t|\tE% total\t|\tE% aprox.\t|\tEs\n",
      "--------------------------------------------------------------------------------------------------------------------------\n",
      "1\t|\t1.0000000\t|\t0.4122147\t|\t41.2214700\t|\t100.0000000\t|\t0.0000005\n",
      "2\t|\t0.5558679\t|\t0.0319174\t|\t5.7419038\t|\t79.8988573\t|\t0.0000005\n",
      "3\t|\t0.5887434\t|\t0.0009581\t|\t0.1627364\t|\t5.5840116\t|\t0.0000005\n",
      "4\t|\t0.5877700\t|\t0.0000153\t|\t0.0026031\t|\t0.1656090\t|\t0.0000005\n",
      "5\t|\t0.5877854\t|\t0.0000001\t|\t0.0000170\t|\t0.0026200\t|\t0.0000005\n",
      "6\t|\t0.5877853\t|\t0.0000000\t|\t0.0000000\t|\t0.0000170\t|\t0.0000005\n"
     ]
    }
   ],
   "source": [
    "def factorial(x):\n",
    "    cont, res = 1 , 1\n",
    "    while cont<=x:\n",
    "        res*=cont\n",
    "        cont+=1\n",
    "    return res\n",
    "\n",
    "def cifras(x):\n",
    "    x *= 10000000\n",
    "    x = int(x)\n",
    "    x /= 10000000\n",
    "    return x\n",
    "\n",
    "x = 0.3*3.1415926\n",
    "cos = 0.5877853  # resultado de cos(0.3*pi)\n",
    "term, expo, cosa, ante, era = 0, 0, 0, 0, 0\n",
    "es = (0.5*10**(2-8))\n",
    "print (\"Terminos|\\tCos(x) aprox.\\t|\\tEt\\t\\t|\\tE% total\\t|\\tE% aprox.\\t|\\tEs\")\n",
    "print (\"-------------------------------------------------------------\"\n",
    "      +\"-------------------------------------------------------------\")\n",
    "while (cifras(cosa)!=cifras(cos)) :\n",
    "    term +=1\n",
    "    cosa += cifras(((-1)**(term+1))*((x**(expo))/factorial(expo)))\n",
    "    expo +=2\n",
    "    et = cos-cosa\n",
    "    if (et<0) :\n",
    "        et*=-1\n",
    "    ert = et/cosa*100\n",
    "    era = (cosa-ante)/cosa*100\n",
    "    if (era<0) :\n",
    "        era*=-1\n",
    "    ante = cosa\n",
    "    print (\"%d\\t|\\t%.7f\\t|\\t%.7f\\t|\\t%.7f\\t|\\t%.7f\\t|\\t%.7f\" %(term, cosa, et, ert, era, es))\n"
   ]
  },
  {
   "cell_type": "code",
   "execution_count": null,
   "metadata": {
    "collapsed": true
   },
   "outputs": [],
   "source": []
  }
 ],
 "metadata": {
  "kernelspec": {
   "display_name": "Python 3",
   "language": "python",
   "name": "python3"
  },
  "language_info": {
   "codemirror_mode": {
    "name": "ipython",
    "version": 3
   },
   "file_extension": ".py",
   "mimetype": "text/x-python",
   "name": "python",
   "nbconvert_exporter": "python",
   "pygments_lexer": "ipython3",
   "version": "3.5.1"
  }
 },
 "nbformat": 4,
 "nbformat_minor": 0
}
