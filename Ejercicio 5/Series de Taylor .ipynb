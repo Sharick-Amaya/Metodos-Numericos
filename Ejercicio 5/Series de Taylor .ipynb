{
 "cells": [
  {
   "cell_type": "code",
   "execution_count": 6,
   "metadata": {
    "collapsed": false
   },
   "outputs": [
    {
     "name": "stdout",
     "output_type": "stream",
     "text": [
      "-----------------\n",
      "Orden 0:\n",
      "F(x)^(0) = 1.20\n",
      "F(Xi+1) = 1.20 \n",
      "-----------------\n",
      "Orden 1:\n",
      "F(x)^(1) = -0.25\n",
      "F(Xi+1) = 0.95 \n",
      "-----------------\n",
      "Orden 2:\n",
      "F(x)^(2) = -1.00\n",
      "F(Xi+1) = 0.45 \n",
      "-----------------\n",
      "Orden 3:\n",
      "F(x)^(3) = -0.90\n",
      "F(Xi+1) = 0.30 \n",
      "-----------------\n",
      "Orden 4:\n",
      "F(x)^(4) = -2.40\n",
      "F(Xi+1) = 0.20 \n",
      "-----------------\n"
     ]
    }
   ],
   "source": [
    "def derivada(opc, x):\n",
    "    fx = 0\n",
    "    if (opc==0) :\n",
    "        fx = -0.1*x**4-0.15*x**3-0.5*x**2-0.25*x+1.2\n",
    "    if (opc==1) :\n",
    "        fx = -0.4*x**3-0.45*x**2-x-0.25\n",
    "    if (opc==2) :\n",
    "        fx = -1.2*x**2-0.9*x-1\n",
    "    if (opc==3):\n",
    "        fx = -2.4*x-0.9\n",
    "    if (opc==4):\n",
    "        fx = -2.4\n",
    "    print (\"F(x)^(%d) = %1.2f\" %(term, fx))\n",
    "    return fx\n",
    "\n",
    "def factorial(x):\n",
    "    cont, res = 1, 1\n",
    "    while cont<=x:\n",
    "        res *= cont\n",
    "        cont += 1\n",
    "    return res\n",
    "    \n",
    "fx, x, h, term = 0, 0, 1, 0\n",
    "print (\"-----------------\")\n",
    "while term<=4:\n",
    "    print (\"Orden %d:\" %(term))\n",
    "    fx += derivada(term, x)*h**term/factorial(term)\n",
    "    print (\"F(Xi+1) = %1.2f \" %(fx))\n",
    "    print (\"-----------------\")\n",
    "    term += 1"
   ]
  },
  {
   "cell_type": "code",
   "execution_count": null,
   "metadata": {
    "collapsed": true
   },
   "outputs": [],
   "source": []
  },
  {
   "cell_type": "code",
   "execution_count": null,
   "metadata": {
    "collapsed": true
   },
   "outputs": [],
   "source": []
  },
  {
   "cell_type": "code",
   "execution_count": null,
   "metadata": {
    "collapsed": true
   },
   "outputs": [],
   "source": []
  },
  {
   "cell_type": "code",
   "execution_count": null,
   "metadata": {
    "collapsed": true
   },
   "outputs": [],
   "source": []
  }
 ],
 "metadata": {
  "kernelspec": {
   "display_name": "Python 3",
   "language": "python",
   "name": "python3"
  },
  "language_info": {
   "codemirror_mode": {
    "name": "ipython",
    "version": 3
   },
   "file_extension": ".py",
   "mimetype": "text/x-python",
   "name": "python",
   "nbconvert_exporter": "python",
   "pygments_lexer": "ipython3",
   "version": "3.5.1"
  }
 },
 "nbformat": 4,
 "nbformat_minor": 0
}
