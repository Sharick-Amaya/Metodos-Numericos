{
 "cells": [
  {
   "cell_type": "code",
   "execution_count": 2,
   "metadata": {
    "collapsed": false
   },
   "outputs": [
    {
     "name": "stdout",
     "output_type": "stream",
     "text": [
      "f(x)=e^x\n",
      "Error Tolerado= 0.05\n",
      "------------------------------------------------------\n",
      "| Término |   e^x aprox  |     εt      |     εa      |\n",
      "------------------------------------------------------\n",
      "|    1    |   1.500000   |   9.914751  |   0.333333  |\n",
      "------------------------------------------------------\n",
      "|    2    |   1.625000   |   1.459771  |   0.076923  |\n",
      "------------------------------------------------------\n",
      "|    3    |   1.645833   |   0.175470  |   0.012658  |\n",
      "------------------------------------------------------\n",
      "\n",
      "Valor Aproximado=  1.64583333333\n"
     ]
    }
   ],
   "source": [
    "import matplotlib.pyplot as plt\n",
    "import math as mt\n",
    "\n",
    "x=0.5\n",
    "resu=0.0\n",
    "nresu=1.0\n",
    "vver=0.0\n",
    "vver=mt.e**(x)\n",
    "ter=1\n",
    "erpa=0.0\n",
    "n=3\n",
    "es=0.5*(10**(2-n)) #Error tolerado\n",
    "\n",
    "y=[]\n",
    "u=[]\n",
    "ever=[]\n",
    "ea=[]\n",
    "\n",
    "print 'f(x)=e^x'\n",
    "print 'Error Tolerado=', es\n",
    "\n",
    "print (\"------------------------------------------------------\")\n",
    "print \"| %-3s |   %-10s |     %-9s|     %-9s|\" %('Término','e^x aprox ','εt','εa')\n",
    "print (\"------------------------------------------------------\")\n",
    "\n",
    "while True:\n",
    "    vresu=nresu\n",
    "    resu=(x**(ter))/mt.factorial(ter)\n",
    "    nresu= resu+nresu\n",
    "    ev=vver-nresu #Error verdadero\n",
    "    erpv=(ev*100)/nresu #Error relativo porcentual verdadero \n",
    "    erpa=(nresu-vresu)/nresu #Error relativo porcentual apróximado \n",
    " \n",
    "    print \"|    %-3d  |   %-10f |   %-9f |   %-9f |\"%(ter,nresu,erpv,erpa)\n",
    "    print (\"------------------------------------------------------\")\n",
    "    y.append(nresu)\n",
    "    u.append(ter)\n",
    "    ever.append(erpv)\n",
    "    ea.append(erpa)\n",
    "    ter=ter+1 \n",
    "    \n",
    "    if (erpa<es):\n",
    "        break \n",
    "plt.plot(u,y,'r-', label='e^x')\n",
    "plt.plot(u,ever,'b--', label='Error verdadero')\n",
    "plt.plot(u,ea,'g--', label='Error aproximado')\n",
    "plt.title(\"SERIE MACLAURIN\")\n",
    "plt.xlabel(\"x\")\n",
    "plt.xlim(0.9, 3)\n",
    "plt.ylabel(\"f (x)\")\n",
    "plt.ylim(0, 2)\n",
    "plt.legend(loc=6)\n",
    "plt.show()\n",
    "print '\\nValor Aproximado= ',nresu    "
   ]
  },
  {
   "cell_type": "code",
   "execution_count": null,
   "metadata": {
    "collapsed": true
   },
   "outputs": [],
   "source": []
  }
 ],
 "metadata": {
  "kernelspec": {
   "display_name": "Python 2",
   "language": "python",
   "name": "python2"
  },
  "language_info": {
   "codemirror_mode": {
    "name": "ipython",
    "version": 2
   },
   "file_extension": ".py",
   "mimetype": "text/x-python",
   "name": "python",
   "nbconvert_exporter": "python",
   "pygments_lexer": "ipython2",
   "version": "2.7.10"
  }
 },
 "nbformat": 4,
 "nbformat_minor": 0
}
