{
 "cells": [
  {
   "cell_type": "code",
   "execution_count": null,
   "metadata": {
    "collapsed": true
   },
   "outputs": [],
   "source": [
    "g=9.8\n",
    "m=68.1\n",
    "c=12.5\n",
    "e=2.7\n",
    "t=0\n",
    "\n",
    "print \"\\tt\\t|\\tV(t)\"\n",
    "print \"-------------------------------------\"\n",
    "while t<=110 :\n",
    "    V=((g*m)/c)*(1-e**(-(c/m)*t))\n",
    "    print \"\\t%d\\t|\\t%f\" % (t, V)\n",
    "    t+=1"
   ]
  }
 ],
 "metadata": {
  "kernelspec": {
   "display_name": "Python 2",
   "language": "python",
   "name": "python2"
  },
  "language_info": {
   "codemirror_mode": {
    "name": "ipython",
    "version": 2
   },
   "file_extension": ".py",
   "mimetype": "text/x-python",
   "name": "python",
   "nbconvert_exporter": "python",
   "pygments_lexer": "ipython2",
   "version": "2.7.10"
  }
 },
 "nbformat": 4,
 "nbformat_minor": 0
}
