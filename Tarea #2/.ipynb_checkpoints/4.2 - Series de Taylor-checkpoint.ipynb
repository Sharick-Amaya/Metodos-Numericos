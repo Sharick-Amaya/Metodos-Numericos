{
 "cells": [
  {
   "cell_type": "code",
   "execution_count": 4,
   "metadata": {
    "collapsed": false
   },
   "outputs": [
    {
     "name": "stdout",
     "output_type": "stream",
     "text": [
      "|Terminos|\tF^(n)(x)\t|      F(x/3)      |      Et       |\n",
      "-------------------------------------------------------------------------\n",
      "|   0    |     0.707106781\t|    0.707106781   |  0.207106781  |\n",
      "|   1    |     -0.185120122\t|    0.521986659   |  0.021986659  |\n",
      "|   2    |     -0.024232167\t|    0.497754491   |  0.002245509  |\n",
      "|   3    |     0.002114656\t|    0.499869147   |  0.000130853  |\n",
      "|   4    |     0.000138404\t|    0.500007551   |  0.000007551  |\n",
      "|   5    |     -0.000007247\t|    0.500000304   |  0.000000304  |\n",
      "|   6    |     -0.000000316\t|    0.499999988   |  0.000000012  |\n",
      "|   7    |     0.000000000\t|    0.499999988   |  0.000000012  |\n"
     ]
    }
   ],
   "source": [
    "import math as mat\n",
    "\n",
    "def derivada(opc, x):\n",
    "    fx = 0\n",
    "    if ((opc==0)or(opc==4)) :\n",
    "        fx = mat.cos(x)\n",
    "    if ((opc==1)or(opc==5)) :\n",
    "        fx = -mat.sin(x)\n",
    "    if ((opc==2)or(opc==6)) :\n",
    "        fx = -mat.cos(x)\n",
    "    if (opc==3):\n",
    "        fx = mat.sin(x)\n",
    "    return fx\n",
    "\n",
    "def factorial(x):\n",
    "    cont, res = 1, 1\n",
    "    while cont<=x:\n",
    "        res *= cont\n",
    "        cont += 1\n",
    "    return res\n",
    "    \n",
    "fx, faux, term, et = 0, 0, 0, 0\n",
    "x, h = mat.pi/4, mat.pi/12\n",
    "fx3 = mat.cos(mat.pi/3)\n",
    "print (\"|Terminos|\\tF^(n)(x)\\t|      F(x/3)      |      Et       |\")\n",
    "print (\"------------------------------------------------------\"\n",
    "      +\"-------------------\")\n",
    "while term<=7:\n",
    "    faux = derivada(term, x)*h**term/factorial(term)\n",
    "    fx += faux\n",
    "    et = mat.fabs(fx3 - fx)\n",
    "    print (\"|   %d    |     %1.9f\\t|    %1.9f   |  %1.9f  |\" %(term, faux, fx, et))\n",
    "    term += 1"
   ]
  },
  {
   "cell_type": "code",
   "execution_count": null,
   "metadata": {
    "collapsed": true
   },
   "outputs": [],
   "source": []
  }
 ],
 "metadata": {
  "kernelspec": {
   "display_name": "Python 3",
   "language": "python",
   "name": "python3"
  },
  "language_info": {
   "codemirror_mode": {
    "name": "ipython",
    "version": 3
   },
   "file_extension": ".py",
   "mimetype": "text/x-python",
   "name": "python",
   "nbconvert_exporter": "python",
   "pygments_lexer": "ipython3",
   "version": "3.5.1"
  }
 },
 "nbformat": 4,
 "nbformat_minor": 0
}
